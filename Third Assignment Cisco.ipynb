{
 "cells": [
  {
   "cell_type": "code",
   "execution_count": 1,
   "metadata": {},
   "outputs": [
    {
     "name": "stdout",
     "output_type": "stream",
     "text": [
      "Enter first value: 65\n",
      "Enter second value: 32\n",
      "\n",
      "Enter 1 to do addition :\n",
      "Enter 2 to do subtraction :\n",
      "Enter 3 to do multiplication :\n",
      "Enter 4 to do division :\n",
      "Enter 5 to do power: \n",
      "Enter your choice: 1\n",
      "\n",
      "Answer : 97\n"
     ]
    }
   ],
   "source": [
    "###Question No 1\n",
    "\n",
    "ans = None\n",
    "num1 = int(input(\"Enter first value: \"))\n",
    "num2 = int(input(\"Enter second value: \"))\n",
    "\n",
    "print(\"\\nEnter 1 to do addition :\")\n",
    "print(\"Enter 2 to do subtraction :\")\n",
    "print(\"Enter 3 to do multiplication :\")\n",
    "print(\"Enter 4 to do division :\")\n",
    "print(\"Enter 5 to do power: \")\n",
    "choice = int(input(\"Enter your choice: \"))\n",
    "\n",
    "if choice == 1:\n",
    "    ans = num1+num2\n",
    "elif choice == 2:\n",
    "    ans = num1-num2\n",
    "elif choice == 3:\n",
    "    ans = num1*num2\n",
    "elif choice == 4:\n",
    "    ans = num1/num2\n",
    "elif choice == 5:\n",
    "    ans = num1**num2\n",
    "    \n",
    "print(f\"\\nAnswer : {ans}\")\n",
    "\n"
   ]
  },
  {
   "cell_type": "code",
   "execution_count": 3,
   "metadata": {},
   "outputs": [
    {
     "name": "stdout",
     "output_type": "stream",
     "text": [
      "Numeric value found : 87\n"
     ]
    }
   ],
   "source": [
    "### Question NO 2\n",
    "the_list = [\"Faizan\",  \"3\", 87,\"Hi\"]\n",
    "for value in the_list:\n",
    "    if type(value) == int or type(value) == float:\n",
    "        print(f\"Numeric value found : {value}\")\n",
    "        break"
   ]
  },
  {
   "cell_type": "code",
   "execution_count": 4,
   "metadata": {},
   "outputs": [
    {
     "name": "stdout",
     "output_type": "stream",
     "text": [
      "Key added\n"
     ]
    }
   ],
   "source": [
    "### Question No 3\n",
    "dic = {}\n",
    "dic[1] = \"Key added\"\n",
    "\n",
    "print(dic[1])"
   ]
  },
  {
   "cell_type": "code",
   "execution_count": 5,
   "metadata": {},
   "outputs": [
    {
     "name": "stdout",
     "output_type": "stream",
     "text": [
      "Sum = 120\n"
     ]
    }
   ],
   "source": [
    "###Question No 4\n",
    "result = 0\n",
    "dic = {1: 2 ,\n",
    "           2: \"Faizan\", \n",
    "           3: 68, \n",
    "           4:\"Noon Numeric\",\n",
    "           5: 50}\n",
    "\n",
    "for value in dic.values():\n",
    "    if type(value) == int or type(value) == float:\n",
    "        result = result + value        \n",
    "        \n",
    "print(f\"Sum = {result}\")"
   ]
  },
  {
   "cell_type": "code",
   "execution_count": 6,
   "metadata": {},
   "outputs": [
    {
     "name": "stdout",
     "output_type": "stream",
     "text": [
      "Duplicated Faizan\n",
      "Duplicated Faizan\n",
      "Duplicated 1\n",
      "Duplicated 1\n",
      "Duplicated 0.4\n",
      "Duplicated 0.4\n"
     ]
    }
   ],
   "source": [
    "### Question No 5\n",
    "the_list = [\"Faizan\", \"Faizan\", 1, 1, 0.4, 0.4, 2, 3, 4, 5, 6]\n",
    "for value in the_list:\n",
    "    if  the_list.count(value) > 1:\n",
    "        print(f\"Duplicated {value}\")"
   ]
  },
  {
   "cell_type": "code",
   "execution_count": 7,
   "metadata": {},
   "outputs": [
    {
     "name": "stdout",
     "output_type": "stream",
     "text": [
      "3 Already exists\n"
     ]
    }
   ],
   "source": [
    "### Question No 6\n",
    "dic = { 1: \"key1\",\n",
    "            2: \"key2\",\n",
    "            3: \"key3\"}\n",
    "\n",
    "given_key = 3\n",
    "\n",
    "for key in dic.keys():\n",
    "    if key == given_key:\n",
    "        print(f\"{given_key} Already exists\")"
   ]
  },
  {
   "cell_type": "code",
   "execution_count": null,
   "metadata": {},
   "outputs": [],
   "source": []
  }
 ],
 "metadata": {
  "kernelspec": {
   "display_name": "Python 3",
   "language": "python",
   "name": "python3"
  },
  "language_info": {
   "codemirror_mode": {
    "name": "ipython",
    "version": 3
   },
   "file_extension": ".py",
   "mimetype": "text/x-python",
   "name": "python",
   "nbconvert_exporter": "python",
   "pygments_lexer": "ipython3",
   "version": "3.7.4"
  }
 },
 "nbformat": 4,
 "nbformat_minor": 2
}
